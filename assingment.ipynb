{
 "cells": [
  {
   "cell_type": "code",
   "execution_count": 2,
   "id": "f9b12e91-6c3f-4cd4-9f7b-0b8e534c4637",
   "metadata": {},
   "outputs": [
    {
     "name": "stdout",
     "output_type": "stream",
     "text": [
      "hi\n",
      "hi\n",
      "hi\n",
      "hi\n",
      "hi\n",
      "hi\n",
      "hi\n",
      "hi\n",
      "hi\n",
      "hi\n"
     ]
    }
   ],
   "source": [
    "# question 1 \n",
    "a=[1,2,3,4,5,6,7,8,9,10]\n",
    "for x in a:\n",
    "    print(\"hi\")"
   ]
  },
  {
   "cell_type": "code",
   "execution_count": 7,
   "id": "6e35f782-4959-4338-a4e2-b200774423b8",
   "metadata": {},
   "outputs": [
    {
     "name": "stdout",
     "output_type": "stream",
     "text": [
      "hi\n",
      "hi\n",
      "hi\n",
      "hi\n",
      "hi\n",
      "hi\n",
      "hi\n",
      "hi\n",
      "hi\n",
      "hi\n"
     ]
    }
   ],
   "source": [
    "#question 1 continued.....\n",
    "a=10\n",
    "while(a!=0):\n",
    "    print(\"hi\")\n",
    "    a=a-1\n"
   ]
  },
  {
   "cell_type": "code",
   "execution_count": 40,
   "id": "49f6aa3f-04b4-42d4-a2cb-9c1576b9ff94",
   "metadata": {},
   "outputs": [
    {
     "name": "stdout",
     "output_type": "stream",
     "text": [
      "55\n",
      "3628800\n",
      "55\n",
      "3628800\n"
     ]
    }
   ],
   "source": [
    "#question 2\n",
    "a=int(0)\n",
    "b=1\n",
    "c=0\n",
    "d=1\n",
    "i=int(1)\n",
    "f=1\n",
    "for x in range(1,11):\n",
    "    a=a+x\n",
    "    b=b*x\n",
    "print (a)   \n",
    "print(b)\n",
    "while(i<=10):\n",
    "    c=c+f\n",
    "    d=d*i\n",
    "    i=i+1\n",
    "    f=f+1\n",
    "    \n",
    "print(c)\n",
    "print(d)"
   ]
  },
  {
   "cell_type": "code",
   "execution_count": 8,
   "id": "489a419b-abd6-4098-a314-03750481859e",
   "metadata": {},
   "outputs": [
    {
     "name": "stdin",
     "output_type": "stream",
     "text": [
      "enter a number 310\n"
     ]
    },
    {
     "name": "stdout",
     "output_type": "stream",
     "text": [
      "cost 2250.0\n"
     ]
    }
   ],
   "source": [
    "# question 3\n",
    "unit=int(input(\"enter a number\"))\n",
    "cost=0\n",
    "if(unit==0):\n",
    "    print(\"cost=\",cost)\n",
    "elif unit!=0:\n",
    "    if unit<=100:\n",
    "        cost=cost+ x*4.5\n",
    "        unit=0\n",
    "        print('cost',cost)\n",
    "    elif unit>100:\n",
    "        cost=cost+100*4.5\n",
    "        unit=unit-100\n",
    "        if unit<=100:\n",
    "            cost=cost+unit*6\n",
    "            unit=0\n",
    "            print('cost',cost)\n",
    "        elif unit>100:\n",
    "            cost=cost+100*6\n",
    "            unit=unit-100\n",
    "            if unit<=100:\n",
    "                cost=cost+unit*10\n",
    "                unit=0\n",
    "                print('cost',cost)\n",
    "            elif unit>100:\n",
    "                cost=cost+100*10\n",
    "                unit=unit-100\n",
    "                if unit==0:\n",
    "                    print('cost',cost)\n",
    "                elif unit!=0:\n",
    "                    cost=cost+unit*20\n",
    "                    print('cost',cost)"
   ]
  },
  {
   "cell_type": "code",
   "execution_count": 16,
   "id": "0a261288-1785-4b72-a8df-64323103c178",
   "metadata": {},
   "outputs": [
    {
     "name": "stdout",
     "output_type": "stream",
     "text": [
      "[4, 5, 8, 10, 12, 15, 16, 20, 24, 25, 28, 30, 32, 35, 36, 40, 44, 45, 48, 50, 52, 55, 56, 60, 64, 65, 68, 70, 72, 75, 76, 80, 84, 85, 88, 90, 92, 95, 96, 100]\n"
     ]
    }
   ],
   "source": [
    "# question 4\n",
    "lis=[]\n",
    "for i in range (1,101):\n",
    "    lis.append(i)\n",
    "    \n",
    "l1=[]\n",
    "j=1\n",
    "while j<100:\n",
    "    if (lis[j]%4==0 ) or (lis[j]%5==0):\n",
    "        l1.append(lis[j])\n",
    "    j=j+1\n",
    "print(l1)   "
   ]
  },
  {
   "cell_type": "code",
   "execution_count": 18,
   "id": "dc1b98eb-e9ff-4aa3-b500-41101eef4a20",
   "metadata": {},
   "outputs": [
    {
     "name": "stdout",
     "output_type": "stream",
     "text": [
      "a= 4\n",
      "e= 3\n",
      "i= 3\n",
      "o= 2\n",
      "u= 0\n"
     ]
    }
   ],
   "source": [
    "#queston 5 \n",
    "\n",
    "str=\"I want to become a data scientist\"\n",
    "acount=0\n",
    "ecount=0\n",
    "icount=0\n",
    "ocount=0\n",
    "ucount=0\n",
    "for i in str:\n",
    "    if i=='a' or i=='A' :\n",
    "        acount=acount+1\n",
    "    elif i=='e' or i=='E':\n",
    "        ecount=ecount+1\n",
    "    elif  i=='i' or i=='I':\n",
    "        icount=icount+1\n",
    "       \n",
    "    elif  i=='o'or i=='O':\n",
    "        ocount=ocount+1\n",
    "       \n",
    "    elif i=='U' or i=='u':\n",
    "        ucount=ucount+1\n",
    "        \n",
    "print('a=', acount)   \n",
    "print('e=',ecount)\n",
    "print('i=',icount)\n",
    "print('o=',ocount)\n",
    "print('u=',ucount)\n",
    "\n",
    "        "
   ]
  },
  {
   "cell_type": "code",
   "execution_count": null,
   "id": "c6f0c216-cf44-4379-8cab-cdb8880bc6db",
   "metadata": {},
   "outputs": [],
   "source": []
  },
  {
   "cell_type": "code",
   "execution_count": null,
   "id": "8721ad60-00aa-4149-8264-f82c0b93d52b",
   "metadata": {},
   "outputs": [],
   "source": []
  }
 ],
 "metadata": {
  "kernelspec": {
   "display_name": "Python 3 (ipykernel)",
   "language": "python",
   "name": "python3"
  },
  "language_info": {
   "codemirror_mode": {
    "name": "ipython",
    "version": 3
   },
   "file_extension": ".py",
   "mimetype": "text/x-python",
   "name": "python",
   "nbconvert_exporter": "python",
   "pygments_lexer": "ipython3",
   "version": "3.10.8"
  }
 },
 "nbformat": 4,
 "nbformat_minor": 5
}
