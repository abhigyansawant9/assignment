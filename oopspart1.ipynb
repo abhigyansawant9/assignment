{
 "cells": [
  {
   "cell_type": "code",
   "execution_count": 2,
   "id": "65f4b49a-9de1-44ae-88fc-f3aff24f1fa7",
   "metadata": {},
   "outputs": [
    {
     "data": {
      "text/plain": [
       "'\\n\\nClass is a blueprint which defines some properties and behaviors. \\nAn object is an instance of a class which has those properties and behaviours attached.\\n\\n'"
      ]
     },
     "execution_count": 2,
     "metadata": {},
     "output_type": "execute_result"
    }
   ],
   "source": [
    "\"\"\"\n",
    "answer 1\n",
    "Class is a blueprint which defines some properties and behaviors. \n",
    "An object is an instance of a class which has those properties and behaviours attached.\n",
    "\n",
    "\"\"\""
   ]
  },
  {
   "cell_type": "code",
   "execution_count": null,
   "id": "9eb1b843-2e55-4dd4-a6be-750ca936f404",
   "metadata": {},
   "outputs": [],
   "source": [
    "\"\"\" answer2\n",
    "The four pillars of OOPs are abstraction, encapsulation, inheritance, and polymorphism.\n",
    "\"\"\""
   ]
  },
  {
   "cell_type": "code",
   "execution_count": null,
   "id": "9f732864-1fea-4149-ae1c-835d13286ee0",
   "metadata": {},
   "outputs": [],
   "source": [
    "\"\"\"answer3\n",
    "he __init__ method is the Python equivalent of the C++ constructor in an object-oriented approach. \n",
    "The __init__ function is called every time an object is created from a class. \n",
    "The __init__ method lets the class initialize the object's attributes and serves no other purpose.\n",
    "It is only used within classes.\n",
    "\"\"\""
   ]
  },
  {
   "cell_type": "code",
   "execution_count": null,
   "id": "18848426-9503-4251-b3a5-1e1a7efbd8b1",
   "metadata": {},
   "outputs": [],
   "source": [
    "\"\"\"answer4\n",
    "The self variable is used to represent the instance of the class which is often used in \n",
    "object-oriented programming.\n",
    "It works as a reference to the object.\n",
    "Python uses the self parameter to refer to instance attributes and methods of the class.\n",
    "\"\"\""
   ]
  },
  {
   "cell_type": "code",
   "execution_count": null,
   "id": "c740ced9-3087-4dbd-9142-eb9e6c295070",
   "metadata": {},
   "outputs": [],
   "source": [
    "\"\"\"answer5\n",
    "\n",
    "Inheritance allows us to define a class that inherits all the methods and properties from another class.\n",
    "Parent class is the class being inherited from, also called base class. \n",
    "Child class is the class that inherits from another class, \n",
    "also called derived class.\n",
    "example-\n",
    "\n",
    "class Person:\n",
    "  def __init__(self, fname, lname):\n",
    "    self.firstname = fname\n",
    "    self.lastname = lname\n",
    "\n",
    "  def printname(self):\n",
    "    print(self.firstname, self.lastname)\n",
    "\n",
    "#Use the Person class to create an object, and then execute the printname method:\n",
    "\n",
    "x = Person(\"John\", \"Doe\")\n",
    "x.printname()\n",
    "\n",
    "\n",
    "\"\"\""
   ]
  }
 ],
 "metadata": {
  "kernelspec": {
   "display_name": "Python 3 (ipykernel)",
   "language": "python",
   "name": "python3"
  },
  "language_info": {
   "codemirror_mode": {
    "name": "ipython",
    "version": 3
   },
   "file_extension": ".py",
   "mimetype": "text/x-python",
   "name": "python",
   "nbconvert_exporter": "python",
   "pygments_lexer": "ipython3",
   "version": "3.10.8"
  }
 },
 "nbformat": 4,
 "nbformat_minor": 5
}
