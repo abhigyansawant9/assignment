{
 "cells": [
  {
   "cell_type": "code",
   "execution_count": 4,
   "id": "1e2592a1-1f50-4e12-974b-0ae0679ac101",
   "metadata": {},
   "outputs": [
    {
     "data": {
      "text/plain": [
       "'Guido Van Russom  made python.'"
      ]
     },
     "execution_count": 4,
     "metadata": {},
     "output_type": "execute_result"
    }
   ],
   "source": [
    "#question 1\n",
    "\"\"\"Guido Van Russom  made python.\"\"\"\n"
   ]
  },
  {
   "cell_type": "code",
   "execution_count": 6,
   "id": "363e84cb-9084-45be-97f7-d80e1edb7629",
   "metadata": {},
   "outputs": [
    {
     "data": {
      "text/plain": [
       "\"\\nObject-oriented programming (OOP)-Python supports OOP, which allows users to define classes and objects that encapsulate data and behavior.\\nFunctional programming-Python supports functional programming, which involves using pure functions that don't have side effects and avoid changing state.\\nProcedural programming-Python supports procedural programming, which involves organizing code into reusable procedures or functions that can be called when needed.\\nScripting-Python is often used as a scripting language, which involves writing short programs to automate tasks or to glue together other programs.\\n\""
      ]
     },
     "execution_count": 6,
     "metadata": {},
     "output_type": "execute_result"
    }
   ],
   "source": [
    "\"\"\" Answer 2\n",
    "\n",
    "Object-oriented programming (OOP)-Python supports OOP, which allows users to define classes and objects that encapsulate data and behavior.\n",
    "\n",
    "Functional programming-Python supports functional programming, which involves using pure functions that don't have side effects and avoid changing state.\n",
    "\n",
    "Procedural programming-Python supports procedural programming, which involves organizing code into reusable procedures or functions that can be called when needed.\n",
    "\n",
    "Scripting-Python is often used as a scripting language, which involves writing short programs to automate tasks or to glue together other programs.\n",
    "\n",
    "\"\"\""
   ]
  },
  {
   "cell_type": "code",
   "execution_count": 7,
   "id": "9247eb1c-b1ce-4a3f-b06e-6f15b03b6377",
   "metadata": {},
   "outputs": [
    {
     "data": {
      "text/plain": [
       "'\\nanswer 3\\n\\nYes, python is case sensitive when dealing with python \\n\\n'"
      ]
     },
     "execution_count": 7,
     "metadata": {},
     "output_type": "execute_result"
    }
   ],
   "source": [
    "\"\"\"\n",
    "answer 3\n",
    "\n",
    "Yes, python is case sensitive when dealing with python \n",
    "\n",
    "\"\"\""
   ]
  },
  {
   "cell_type": "code",
   "execution_count": 8,
   "id": "edb86991-0d5b-4472-9168-1b751fb2a37b",
   "metadata": {},
   "outputs": [
    {
     "data": {
      "text/plain": [
       "'\\n.py is extension of python file.\\n\\n'"
      ]
     },
     "execution_count": 8,
     "metadata": {},
     "output_type": "execute_result"
    }
   ],
   "source": [
    "\"\"\" answer 4\n",
    ".py is extension of python file.\n",
    "\n",
    "\"\"\""
   ]
  },
  {
   "cell_type": "code",
   "execution_count": 1,
   "id": "bba34a9d-e362-4365-9d88-308f6b7a66a9",
   "metadata": {},
   "outputs": [
    {
     "data": {
      "text/plain": [
       "'\\n\\nPython code is interpreted.\\n\\n'"
      ]
     },
     "execution_count": 1,
     "metadata": {},
     "output_type": "execute_result"
    }
   ],
   "source": [
    "\"\"\"answer 5\n",
    "\n",
    "Python code is interpreted.\n",
    "\n",
    "\"\"\""
   ]
  },
  {
   "cell_type": "code",
   "execution_count": 2,
   "id": "83c329c5-d822-4413-b8f4-ebc913a4224c",
   "metadata": {},
   "outputs": [
    {
     "data": {
      "text/plain": [
       "'answer 6\\n\\nfunction.\\n\\n'"
      ]
     },
     "execution_count": 2,
     "metadata": {},
     "output_type": "execute_result"
    }
   ],
   "source": [
    "\"\"\"answer 6\n",
    "\n",
    "function.\n",
    "\n",
    "\"\"\""
   ]
  },
  {
   "cell_type": "code",
   "execution_count": 3,
   "id": "c9b8d173-98e2-49bb-a3e8-02dae2d2800c",
   "metadata": {},
   "outputs": [
    {
     "data": {
      "text/plain": [
       "'\\n\\nhash (#) is used to make one line comment in python.\\n\\n'"
      ]
     },
     "execution_count": 3,
     "metadata": {},
     "output_type": "execute_result"
    }
   ],
   "source": [
    "\"\"\"answer 7\n",
    "\n",
    "hash (#) is used to make one line comment in python.\n",
    "\n",
    "\"\"\""
   ]
  },
  {
   "cell_type": "code",
   "execution_count": 7,
   "id": "2b3a1021-8328-4901-aa3e-9ea842ce99de",
   "metadata": {},
   "outputs": [
    {
     "data": {
      "text/plain": [
       "'answer 8\\n\\nimport platform\\n\\nplatform.python_version()     \\n\\nthis is the function used  for checking the version of python we are currently using.\\n\\n'"
      ]
     },
     "execution_count": 7,
     "metadata": {},
     "output_type": "execute_result"
    }
   ],
   "source": [
    "\"\"\"answer 8\n",
    "\n",
    "import platform\n",
    "\n",
    "platform.python_version()     \n",
    "\n",
    "this is the function used  for checking the version of python we are currently using.\n",
    "\n",
    "\"\"\""
   ]
  },
  {
   "cell_type": "code",
   "execution_count": 8,
   "id": "2574971c-2b89-4ce0-8dc4-dd5a2665c706",
   "metadata": {},
   "outputs": [
    {
     "data": {
      "text/plain": [
       "'answer 9\\n\\npython supports the creation of anonymous function at runtime, using a construct called lambda.\\n\\n'"
      ]
     },
     "execution_count": 8,
     "metadata": {},
     "output_type": "execute_result"
    }
   ],
   "source": [
    "\"\"\"answer 9\n",
    "\n",
    "python supports the creation of anonymous function at runtime, using a construct called lambda.\n",
    "\n",
    "\"\"\""
   ]
  },
  {
   "cell_type": "code",
   "execution_count": 9,
   "id": "3ce15932-1236-48e9-86d4-1572e1818853",
   "metadata": {},
   "outputs": [
    {
     "data": {
      "text/plain": [
       "'answer 10\\n\\nPython Installs Packages\\n\\n'"
      ]
     },
     "execution_count": 9,
     "metadata": {},
     "output_type": "execute_result"
    }
   ],
   "source": [
    "\"\"\"answer 10\n",
    "\n",
    "Python Installs Packages\n",
    "\n",
    "\"\"\""
   ]
  },
  {
   "cell_type": "code",
   "execution_count": 10,
   "id": "37ddb188-e494-4da1-aa8b-a554b9a134db",
   "metadata": {},
   "outputs": [
    {
     "data": {
      "text/plain": [
       "'\\n\\nprint()\\nint()\\ninput()\\nrange()\\n\\n\\n'"
      ]
     },
     "execution_count": 10,
     "metadata": {},
     "output_type": "execute_result"
    }
   ],
   "source": [
    "\"\"\"answer 11-\n",
    "\n",
    "print()\n",
    "int()\n",
    "input()\n",
    "range()\n",
    "\n",
    "\n",
    "\"\"\""
   ]
  },
  {
   "cell_type": "code",
   "execution_count": 11,
   "id": "242c6b50-e20a-4994-89b2-7234f21e8a9e",
   "metadata": {},
   "outputs": [
    {
     "data": {
      "text/plain": [
       "'75 charaters is the maximum limit for the indentifiers'"
      ]
     },
     "execution_count": 11,
     "metadata": {},
     "output_type": "execute_result"
    }
   ],
   "source": [
    "\"\"\"answer 12 - \n",
    "75 charaters is the maximum limit for the indentifiers\n",
    "\n",
    "\"\"\""
   ]
  },
  {
   "cell_type": "code",
   "execution_count": 17,
   "id": "1c4a2451-c884-4fa8-93da-b99c902b153c",
   "metadata": {},
   "outputs": [
    {
     "data": {
      "text/plain": [
       "'\\nanswer 13\\n\\nPresence of third-party modules \\nExtensive support libraries(NumPy for numerical calculations, Pandas for data analytics, etc.) \\nOpen source and large active community base \\nVersatile, Easy to read, learn and write\\nUser-friendly data structures \\nHigh-level language \\nDynamically typed language(No need to mention data type based on the value assigned, it takes data type) \\nObject-Oriented and Procedural  Programming language\\nPortable and Interactive\\nIdeal for prototypes – provide more functionality with less coding\\nHighly Efficient(Python’s clean object-oriented design provides enhanced process control, and the language is equipped with excellent text processing and integration capabilities, as well as its own unit testing framework, which makes it more efficient.)\\nInternet of Things(IoT) Opportunities\\nInterpreted Language\\nPortable across Operating systems \\n\\n'"
      ]
     },
     "execution_count": 17,
     "metadata": {},
     "output_type": "execute_result"
    }
   ],
   "source": [
    "\"\"\"\n",
    "answer 13\n",
    "\n",
    "Presence of third-party modules \n",
    "Extensive support libraries(NumPy for numerical calculations, Pandas for data analytics, etc.) \n",
    "Open source and large active community base \n",
    "Versatile, Easy to read, learn and write\n",
    "User-friendly data structures \n",
    "High-level language \n",
    "Dynamically typed language(No need to mention data type based on the value assigned, it takes data type) \n",
    "Object-Oriented and Procedural  Programming language\n",
    "Portable and Interactive\n",
    "Ideal for prototypes – provide more functionality with less coding\n",
    "Highly Efficient(Python’s clean object-oriented design provides enhanced process control, and the language is equipped with excellent text processing and integration capabilities, as well as its own unit testing framework, which makes it more efficient.)\n",
    "Internet of Things(IoT) Opportunities\n",
    "Interpreted Language\n",
    "Portable across Operating systems \n",
    "\n",
    "\"\"\""
   ]
  },
  {
   "cell_type": "code",
   "execution_count": 16,
   "id": "b6910fc6-0508-4aea-87ce-822043ece623",
   "metadata": {},
   "outputs": [
    {
     "data": {
      "text/plain": [
       "'\\n\\nanswer 14\\n\\n\\n\\n'"
      ]
     },
     "execution_count": 16,
     "metadata": {},
     "output_type": "execute_result"
    }
   ],
   "source": [
    "\"\"\"\n",
    "\n",
    "answer 14\n",
    "\n",
    "\n",
    "\n",
    "\"\"\""
   ]
  },
  {
   "cell_type": "code",
   "execution_count": 1,
   "id": "2b73243f-28e4-4917-aeae-6681ae9e610a",
   "metadata": {},
   "outputs": [
    {
     "data": {
      "text/plain": [
       "'answer15\\n\\nGo to python website \\nform that website download python for windows\\nafter it is downloaded install the python file \\nafter the python is installed go to the python folder and then go to the bin folder and then copy the address of the python interpreter in the folder \\nand then open the environment variables and past the address in the path \\n\\n\\n'"
      ]
     },
     "execution_count": 1,
     "metadata": {},
     "output_type": "execute_result"
    }
   ],
   "source": [
    "\"\"\"answer15\n",
    "\n",
    "Go to python website \n",
    "\n",
    "form that website download python for windows\n",
    "\n",
    "after it is downloaded install the python file \n",
    "\n",
    "after the python is installed go to the python folder and then go to the bin folder and then copy the address of the python interpreter in the folder\n",
    "\n",
    "and then open the environment variables and past the address in the path \n",
    "\n",
    "\n",
    "\"\"\""
   ]
  },
  {
   "cell_type": "code",
   "execution_count": 14,
   "id": "df3fd714-d87d-4cef-895d-32060c01214a",
   "metadata": {},
   "outputs": [
    {
     "data": {
      "text/plain": [
       "'answer16\\nyes indentation i required in python '"
      ]
     },
     "execution_count": 14,
     "metadata": {},
     "output_type": "execute_result"
    }
   ],
   "source": [
    "\"\"\"answer16\n",
    "\n",
    "yes indentation i required in python\n",
    "\n",
    "\"\"\""
   ]
  }
 ],
 "metadata": {
  "kernelspec": {
   "display_name": "Python 3 (ipykernel)",
   "language": "python",
   "name": "python3"
  },
  "language_info": {
   "codemirror_mode": {
    "name": "ipython",
    "version": 3
   },
   "file_extension": ".py",
   "mimetype": "text/x-python",
   "name": "python",
   "nbconvert_exporter": "python",
   "pygments_lexer": "ipython3",
   "version": "3.10.8"
  }
 },
 "nbformat": 4,
 "nbformat_minor": 5
}
